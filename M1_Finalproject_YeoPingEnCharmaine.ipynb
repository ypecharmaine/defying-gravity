{
 "cells": [
  {
   "cell_type": "markdown",
   "metadata": {},
   "source": [
    "# Final Project -Yeo Ping En Charmaine"
   ]
  },
  {
   "cell_type": "markdown",
   "metadata": {},
   "source": [
    "## Question 1"
   ]
  },
  {
   "cell_type": "markdown",
   "metadata": {},
   "source": [
    "You just started working and decide that you want to start saving to buy a house.  You are going to have to save for some time to make the down payment on a house. \n",
    "Write a program to calculate and return how many months it will take you to save up enough money for the down payment required. Given the following assumptions:\n",
    "\n",
    "1. Name the cost of your dream home total_cost. \n",
    "2. Assume your annual salary is annual_salary. \n",
    "3. Name the percent of the cost needed for a down payment percent_down_payment. For simplicity, assume that percent_down_payment is 25%. \n",
    "4. You are going to dedicate a certain percent of your salary each month to saving for the down payment. Name that percent_savings. This variable should be in decimal form (eg. 0.1 for 10%).  \n",
    "5. You will also invest the above savings with an annual return of r (in other words, at the end of each month, you receive monthly_returns = current_savings*(r/12) of investment returns back. \n",
    "Assume that your investments earn an annual return r of  4%. And to keep things simple, it will not be compounded.\n",
    "\n",
    "Task: Determine how long it takes for you to achieve the down payment needed, taking into consideration the total investment returns and monthly savings. Assume you are going to put all your monthly investment returns and monthly savings into your down payment.\n",
    "\n",
    "You will want your main variables to be floats.\n",
    "Your program should ask the user to enter the following variables: \n",
    "1. The starting annual salary (annual_salary)\n",
    "2. The percent of salary to be saved (percent_savings) \n",
    "3. The cost of your dream home (total_cost)\n"
   ]
  },
  {
   "cell_type": "code",
   "execution_count": 2,
   "metadata": {},
   "outputs": [
    {
     "name": "stdout",
     "output_type": "stream",
     "text": [
      "The total cost of your dream house: 500000\n",
      "Your annual salary: 50000\n",
      "What percent of your salary to save: 0.3\n",
      "Your total down payment is:  125000.0\n",
      "Your total monthly savings:  1254.1666666666667\n",
      "You need 99.66777408637873 months to save for your dream house.\n"
     ]
    }
   ],
   "source": [
    "    # Gather input from the beginning\n",
    "\n",
    "total_cost = float(input(\"The total cost of your dream house: \"))\n",
    "annual_salary = float(input(\"Your annual salary: \"))\n",
    "percent_savings = float(input(\"What percent of your salary to save: \"))\n",
    "\n",
    "    # Colculate total down payment\n",
    "\n",
    "percent_down_payment = 0.25 \n",
    "amount_down_payment = percent_down_payment * total_cost  \n",
    "\n",
    "    # calculate monthly savings and returns from investments.\n",
    "\n",
    "monthly_salary = annual_salary / 12\n",
    "monthly_savings = percent_savings * monthly_salary\n",
    "r = 0.04\n",
    "monthly_returns = monthly_savings * (r / 12)\n",
    "total_monthly_savings = monthly_returns + monthly_savings\n",
    "\n",
    "    # calculate months needed to save up for the down payment.\n",
    "\n",
    "months_needed = amount_down_payment / total_monthly_savings\n",
    "\n",
    "    # Print all the results\n",
    "\n",
    "print(\"Your total down payment is: \", amount_down_payment)\n",
    "print(\"Your total monthly savings: \", total_monthly_savings)\n",
    "print(\"You need\", months_needed, \"months to save for your dream house.\")"
   ]
  },
  {
   "cell_type": "markdown",
   "metadata": {},
   "source": [
    "## Question 2"
   ]
  },
  {
   "cell_type": "markdown",
   "metadata": {},
   "source": [
    "This program will simulate how a decision tree behaves. A decision tree starts with a single decision, and then branches out to more decision paths. Write a function with 3 arguments that output the medical diagnosis that corresponds to the described conditions below. \n",
    "\n",
    "There are total of 3 conditions (arguments) : \n",
    "- fever, stuffy nose, rash\n",
    "- make the arguments boolean types "
   ]
  },
  {
   "cell_type": "markdown",
   "metadata": {},
   "source": [
    "The conditions and diagnosis are:\n",
    "\n",
    "• <u> Condition </u>: No fever, no stuffy nose. \t\t<u> Diagnosis </u>: Hypochondriac\n",
    "\n",
    "• <u> Condition </u>: No fever, stuffy nose. \t\t\t<u> Diagnosis </u>: Head cold\n",
    "\n",
    "• <u> Condition </u>: Fever, rash.\t\t \t        \t<u> Diagnosis </u>: Measles\n",
    "\n",
    "• <u> Condition </u>: Fever, no rash \t\t         \t<u> Diagnosis </u>: Flu"
   ]
  },
  {
   "cell_type": "code",
   "execution_count": null,
   "metadata": {},
   "outputs": [],
   "source": [
    "    # Set default to all false for easy changes\n",
    "\n",
    "def diagnosis(fever = False, stuffy_nose = False, rashes = False):\n",
    "    \n",
    "    # Set true for the different symptoms and illnesses\n",
    "    if fever == False and stuffy_nose == False and rashes == False:\n",
    "        print(\"You are hypochondriac\")\n",
    "    elif stuffy_nose == True:\n",
    "        print(\"You have a head cold! :(\")\n",
    "    elif fever == True and rashes == True:\n",
    "        print(\"You have Measles! :(\")\n",
    "    elif fever == True:\n",
    "        print(\"You have the flu! :(\")\n",
    "        \n",
    "    # Hypochrondia\n",
    "diagnosis(fever = False, stuffy_nose = False, rashes = False)     \n",
    "    # Head cold \n",
    "diagnosis(fever = False, stuffy_nose = True, rashes = False)\n",
    "    # Measles\n",
    "diagnosis(fever = True, stuffy_nose = False, rashes = True)\n",
    "    # The Flu\n",
    "diagnosis(fever = True, stuffy_nose = False, rashes = False)"
   ]
  },
  {
   "cell_type": "markdown",
   "metadata": {},
   "source": [
    "## Question 3"
   ]
  },
  {
   "cell_type": "markdown",
   "metadata": {},
   "source": [
    "Declare 3 lists:\n",
    "\n",
    "list1 = [1,2,3,4,5]\n",
    "\n",
    "list2 =  [11,12,13,14,15]\n",
    "\n",
    "list3 = [21,22,23,24,25]\n",
    "\n",
    "Get user input on which list he wants to choose, by using a string input. \n",
    "Eg. If user inputs list1, assign it as selected_list and use it for operations below.\n",
    "\n",
    "According to the choice of the user, perform below 2 operations on the selected_list:\n",
    "\n",
    "A)  Print all even indexed elements of selected_list using for loop   (ie. selected_list[0], selected_list[2], selected_list[4]...)\n",
    "B) Filter and print the even numbers of selected_list using lambda function."
   ]
  },
  {
   "cell_type": "code",
   "execution_count": 3,
   "metadata": {},
   "outputs": [
    {
     "name": "stdout",
     "output_type": "stream",
     "text": [
      "Which list do you want? list2\n",
      "11\n",
      "13\n",
      "15\n",
      "[12, 14]\n"
     ]
    }
   ],
   "source": [
    "list1 = [1,2,3,4,5]\n",
    "list2 = [11,12,13,14,15]\n",
    "list3 = [21,22,23,24,25]\n",
    "   \n",
    "selected_list = str(input(\"Which list do you want? \"))\n",
    "    \n",
    "if selected_list == 'list1':\n",
    "    for i in range(0, 5, 2):      # <-------Part A\n",
    "        print(list1[i])                           \n",
    "    evens = list(filter(lambda i : i % 2 == 0, list1))       # <-------Part B\n",
    "    print(evens)\n",
    "        \n",
    "elif selected_list == 'list2':\n",
    "    for i in range(0, 5, 2):\n",
    "        print(list2[i])\n",
    "    evens = list(filter(lambda i : i % 2 == 0, list2))\n",
    "    print(evens)\n",
    "        \n",
    "elif selected_list == 'list3':\n",
    "    for i in range(0, 5, 2):\n",
    "        print(list3[i])\n",
    "    evens = list(filter(lambda i : i % 2 == 0, list3))\n",
    "    print(evens)"
   ]
  },
  {
   "cell_type": "markdown",
   "metadata": {},
   "source": [
    "## Question 4"
   ]
  },
  {
   "cell_type": "markdown",
   "metadata": {},
   "source": [
    "A) Create a class Vehicle with the following attributes:\n",
    "\n",
    "\tInit constructor with 2 parameters where there is engine (default is “A”) and tires (default is 4)\n",
    "\n",
    "\tMethod called drive( where it prints “I am being driven!”\n",
    "\n",
    "Test Case\n",
    "\n",
    "Create a Vehicle object v1 and call the drive method.\n",
    "\n",
    "\n",
    "B) Create a child class Motorbike of parent class Vehicle with following attributes:\n",
    "\n",
    "\tOverride the Vehicle init constructor with 3 parameters where now there is name, engine, tires (default is 2)\n",
    "\n",
    "\tMethod called seats which prints “I can seat 2 people!”\n",
    "\n",
    "\tSpecial method for add which uses the + operator, resulting in using 2 people’s names to  print: “Person1: (name) , Person2: (name)”\n",
    "\n",
    "Test Case\n",
    "\n",
    "Create 2 Motorbike objects, v2, v3.\n",
    "\n",
    "v2 has engine called “B” and name “Mike”. \n",
    "\n",
    "v3 has engine called “C” and name “Peter”\n",
    "\n",
    "Call v2’s drive method and seats method. \n",
    "\n",
    "Use special method of add to call the + operator on v2 and v3, which prints “Person 1: Mike, Person2: Peter\n"
   ]
  },
  {
   "cell_type": "code",
   "execution_count": null,
   "metadata": {},
   "outputs": [],
   "source": [
    "# A:\n",
    "class Vehicle:\n",
    "    \n",
    "    def __init__(self, engine = \"A\", tires = \"4\"):\n",
    "        self.engine = engine\n",
    "        self.tires = tires\n",
    "    def drive(self):\n",
    "        print(\"I am being driven!\")\n",
    "\n",
    "v1 = Vehicle()\n",
    "v1.drive()"
   ]
  },
  {
   "cell_type": "code",
   "execution_count": null,
   "metadata": {},
   "outputs": [],
   "source": [
    "#B:\n",
    "\n",
    "class Motorbike(Vehicle):\n",
    "    \n",
    "    def __init__(self, name, engine, tires = \"2\"):\n",
    "        self.name = name\n",
    "        self.engine = engine\n",
    "        self.tires = tires\n",
    "    \n",
    "    def seats(self):\n",
    "        print(\"I can seat 2 people!\")\n",
    "        \n",
    "    def __add__(self, person2):\n",
    "        print(\"Person 1:\", self.name + \", Person 2:\", person2.name)\n",
    "           \n",
    "v2 = Motorbike(name = \"Mike\", engine = \"B\")\n",
    "v3 = Motorbike(name = \"Peter\", engine = \"C\")\n",
    "\n",
    "\n",
    "v2.drive()\n",
    "v2.seats()\n",
    "\n",
    "v2 + v3"
   ]
  },
  {
   "cell_type": "markdown",
   "metadata": {},
   "source": [
    "Bonus Question: Create a decorator that prints “this is a sedan” first and then the original function. Create a child class Sedan of parent class Vehicle. Define method seats to print “I am a seat”. Wrap the decorator around the method seats, and call the newly decorated seats method for an object.\n",
    "\n",
    "Test case \n",
    "\n",
    "v4 = Sedan()\n",
    "\n",
    "v4.seats()"
   ]
  },
  {
   "cell_type": "code",
   "execution_count": null,
   "metadata": {},
   "outputs": [],
   "source": [
    "def sedan_decorator(func):\n",
    "\n",
    "    def sedan_wrapper(*args, **kwargs):\n",
    "        print(\"This is a sedan\")\n",
    "        func(*args, **kwargs)\n",
    "    return sedan_wrapper\n",
    "\n",
    "class Sedan(Vehicle):\n",
    "    \n",
    "    @sedan_decorator\n",
    "    def seats(self):\n",
    "        print(\"I am a seat\")\n",
    " \n",
    "v4 = Sedan()\n",
    "v4.seats()\n"
   ]
  },
  {
   "cell_type": "code",
   "execution_count": null,
   "metadata": {},
   "outputs": [],
   "source": []
  }
 ],
 "metadata": {
  "kernelspec": {
   "display_name": "Python 3",
   "language": "python",
   "name": "python3"
  },
  "language_info": {
   "codemirror_mode": {
    "name": "ipython",
    "version": 3
   },
   "file_extension": ".py",
   "mimetype": "text/x-python",
   "name": "python",
   "nbconvert_exporter": "python",
   "pygments_lexer": "ipython3",
   "version": "3.7.6"
  }
 },
 "nbformat": 4,
 "nbformat_minor": 4
}
